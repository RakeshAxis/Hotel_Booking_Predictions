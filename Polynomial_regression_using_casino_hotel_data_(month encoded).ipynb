{
 "cells": [
  {
   "cell_type": "code",
   "execution_count": 1,
   "metadata": {
    "collapsed": true
   },
   "outputs": [],
   "source": [
    "# hotel_id = 57b66e62916bb9001839f1d5 , of casino hotel\n",
    "# Polynomial Regression model"
   ]
  },
  {
   "cell_type": "code",
   "execution_count": 1,
   "metadata": {
    "collapsed": true
   },
   "outputs": [],
   "source": [
    "import numpy as np\n",
    "import pandas as pd\n",
    "from sklearn.preprocessing import PolynomialFeatures\n",
    "import calendar\n",
    "import pymongo\n",
    "import urllib.parse\n",
    "from datetime import date\n",
    "from pandas import DatetimeIndex\n",
    "from sklearn.linear_model import LinearRegression\n",
    "from sklearn.preprocessing import LabelEncoder , OneHotEncoder\n",
    "import matplotlib.pyplot as plot"
   ]
  },
  {
   "cell_type": "code",
   "execution_count": 2,
   "metadata": {
    "collapsed": true
   },
   "outputs": [],
   "source": [
    "def get_booking_data(hotel_id):\n",
    "    booking_data = df_bookings[df_bookings.hotel_id == hotel_id]\n",
    "    booking_data = booking_data[booking_data.cancelled == False]\n",
    "    booking_data = booking_data.groupby(['stay_dt'],as_index=False)[['rooms']].sum()\n",
    "    booking_data['stay_dt'] = pd.to_datetime(booking_data['stay_dt'])\n",
    "    return booking_data"
   ]
  },
  {
   "cell_type": "code",
   "execution_count": 3,
   "metadata": {
    "collapsed": true
   },
   "outputs": [],
   "source": [
    "def initialize(df):\n",
    "    df['Jan'] = 0 \n",
    "    df['Feb'] = 0\n",
    "    df['Mar'] = 0\n",
    "    df['Apr'] = 0\n",
    "    df['May'] = 0\n",
    "    df['Jun'] = 0\n",
    "    df['Jul'] = 0\n",
    "    df['Aug'] = 0\n",
    "    df['Sep'] = 0\n",
    "    df['Oct'] = 0\n",
    "    df['Nov'] = 0\n",
    "    df['Dec'] = 0\n",
    "    return df"
   ]
  },
  {
   "cell_type": "code",
   "execution_count": 4,
   "metadata": {
    "collapsed": true
   },
   "outputs": [],
   "source": [
    "\n",
    "def format_stay_dt_encode(df):\n",
    "    df = initialize(df)\n",
    "    for i in df.index:\n",
    "        stay_date = df.get_value(i,'stay_dt')\n",
    "        mm = stay_date.month\n",
    "        dd = stay_date.day\n",
    "        yy = stay_date.year\n",
    "        df.set_value(i,'year',yy)\n",
    "        df.set_value(i,'day',dd)\n",
    "        week_day=stay_date.weekday()\n",
    "        df.set_value(i,'week_day',week_day)\n",
    "        if(week_day==6 or week_day==5 or week_day==4):\n",
    "            df.set_value(i,'weekend',1)\n",
    "        else:\n",
    "            df.set_value(i,'weekend',0)\n",
    "            \n",
    "        if mm == 1:df.set_value(i,'Jan',1)\n",
    "        elif mm ==2:df.set_value(i,'Feb',1)\n",
    "        elif mm ==3:df.set_value(i,'Mar',1)\n",
    "        elif mm ==4:df.set_value(i,'Apr',1)\n",
    "        elif mm ==5:df.set_value(i,'May',1)\n",
    "        elif mm ==6:df.set_value(i,'Jun',1)\n",
    "        elif mm ==7:df.set_value(i,'Jul',1)\n",
    "        elif mm ==8:df.set_value(i,'Aug',1)\n",
    "        elif mm ==9:df.set_value(i,'Sep',1)\n",
    "        elif mm ==10:df.set_value(i,'Oct',1)\n",
    "        elif mm ==11:df.set_value(i,'Nov',1)\n",
    "        elif mm ==12:df.set_value(i,'Dec',1)\n",
    "    df = df[['Jan','Feb','Mar','Apr','May','Jun','Jul','Aug','Sep','Oct','Nov','Dec','week_day','day','weekend','rooms']]\n",
    "    df = df.groupby(['Jan','Feb','Mar','Apr','May','Jun','Jul','Aug','Sep','Oct','Nov','Dec','week_day','day','weekend'],as_index=False)[['rooms']].mean()\n",
    "    return df\n"
   ]
  },
  {
   "cell_type": "code",
   "execution_count": 5,
   "metadata": {
    "collapsed": true
   },
   "outputs": [],
   "source": [
    "def format_stay_dt_test_encode(df):\n",
    "    df = initialize(df)\n",
    "    for i in df.index:\n",
    "        stay_date = df.get_value(i,'stay_dt')\n",
    "        mm = stay_date.month\n",
    "        dd = stay_date.day\n",
    "        df.set_value(i,'day',dd)\n",
    "        week_day=stay_date.weekday()\n",
    "        df.set_value(i,'week_day',week_day)\n",
    "        if(week_day==6 or week_day==5 or week_day==4):\n",
    "            df.set_value(i,'weekend',1)\n",
    "        else:\n",
    "            df.set_value(i,'weekend',0)\n",
    "        \n",
    "        if mm == 1:df.set_value(i,'Jan',1)\n",
    "        elif mm ==2:df.set_value(i,'Feb',1)\n",
    "        elif mm ==3:df.set_value(i,'Mar',1)\n",
    "        elif mm ==4:df.set_value(i,'Apr',1)\n",
    "        elif mm ==5:df.set_value(i,'May',1)\n",
    "        elif mm ==6:df.set_value(i,'Jun',1)\n",
    "        elif mm ==7:df.set_value(i,'Jul',1)\n",
    "        elif mm ==8:df.set_value(i,'Aug',1)\n",
    "        elif mm ==9:df.set_value(i,'Sep',1)\n",
    "        elif mm ==10:df.set_value(i,'Oct',1)\n",
    "        elif mm ==11:df.set_value(i,'Nov',1)\n",
    "        elif mm ==12:df.set_value(i,'Dec',1)\n",
    "    df = df[['stay_dt','Jan','Feb','Mar','Apr','May','Jun','Jul','Aug','Sep','Oct','Nov','Dec','week_day','day','weekend','rooms']]\n",
    "    df = df.groupby(['stay_dt','Jan','Feb','Mar','Apr','May','Jun','Jul','Aug','Sep','Oct','Nov','Dec','week_day','day','weekend'],as_index=False)[['rooms']].mean()\n",
    "    return df\n"
   ]
  },
  {
   "cell_type": "code",
   "execution_count": 6,
   "metadata": {
    "collapsed": true
   },
   "outputs": [],
   "source": [
    "def yearly_change_factor(df,month,prev_yr):\n",
    "    \n",
    "    for i in df.index:\n",
    "        stay_date = df.get_value(i,'stay_dt')\n",
    "        mm = stay_date.month\n",
    "        yy = stay_date.year\n",
    "        df.set_value(i,'month',mm)\n",
    "        df.set_value(i,'year',yy)\n",
    "    df = df.groupby(['year','month'],as_index = False)[['rooms']].sum()\n",
    "    df = df[(df.month == month)]\n",
    "    idx = df.index\n",
    "    increment = 0\n",
    "    j=idx[0]\n",
    "    k=idx[1]\n",
    "    factor = (df.get_value(j,'rooms'))/(df.get_value(k,'rooms'))\n",
    "    avg_increment = factor * (df.get_value(j,'rooms'))\n",
    "    return avg_increment\n",
    "    "
   ]
  },
  {
   "cell_type": "code",
   "execution_count": 7,
   "metadata": {
    "collapsed": true
   },
   "outputs": [],
   "source": [
    "def avg_yearly_change(df,curr_yr):\n",
    "    prev_yr = curr_yr-1\n",
    "    for i in df.index:\n",
    "        stay_date = df.get_value(i,'stay_dt')\n",
    "        yy = stay_date.year\n",
    "        df.set_value(i,'year',yy)\n",
    "    df = df.groupby(['year'],as_index = False)[['rooms']].sum()\n",
    "    df = df[(df.year <= prev_yr)]\n",
    "    idx = df.index\n",
    "    change = 0\n",
    "    for i in range(0,idx.size-1):\n",
    "        j = i+1\n",
    "        k= i\n",
    "        change = change + (df.get_value(idx[j],'rooms')) - (df.get_value(idx[k],'rooms'))\n",
    "    avg_change = change/(idx.size)\n",
    "    return avg_change"
   ]
  },
  {
   "cell_type": "code",
   "execution_count": 8,
   "metadata": {
    "scrolled": true
   },
   "outputs": [
    {
     "name": "stderr",
     "output_type": "stream",
     "text": [
      "C:\\Users\\Rakesh\\Anaconda3\\lib\\site-packages\\IPython\\core\\interactiveshell.py:2717: DtypeWarning: Columns (4,5,10,12,15,17,18,19) have mixed types. Specify dtype option on import or set low_memory=False.\n",
      "  interactivity=interactivity, compiler=compiler, result=result)\n",
      "C:\\Users\\Rakesh\\Anaconda3\\lib\\site-packages\\IPython\\core\\interactiveshell.py:2717: DtypeWarning: Columns (24,3005,3009,3013,3018,3022,3026,3030,3034,3038) have mixed types. Specify dtype option on import or set low_memory=False.\n",
      "  interactivity=interactivity, compiler=compiler, result=result)\n"
     ]
    }
   ],
   "source": [
    "df_bookings = pd.read_csv(\"C:\\\\Users\\\\Rakesh\\\\OneDrive\\\\Documents\\\\Data\\\\booking.csv\")\n",
    "\n",
    "df_hotels = pd.read_csv(\"C:\\\\Users\\\\Rakesh\\\\OneDrive\\\\Documents\\\\Data\\\\hotel.csv\")"
   ]
  },
  {
   "cell_type": "code",
   "execution_count": 83,
   "metadata": {
    "collapsed": true
   },
   "outputs": [],
   "source": [
    "# Testing for casino hotel only\n",
    "\n",
    "hotel_id = '57b66e62916bb9001839f1d5'\n",
    "booking_data = get_booking_data(hotel_id)\n",
    "\n",
    "df_train = booking_data[(booking_data.stay_dt < pd.to_datetime('2018-12-01'))]\n",
    "df_test = booking_data[(booking_data.stay_dt >= pd.to_datetime('2018-12-01')) & (booking_data.stay_dt<pd.to_datetime('2019-01-01'))]\n"
   ]
  },
  {
   "cell_type": "code",
   "execution_count": 84,
   "metadata": {
    "collapsed": true
   },
   "outputs": [],
   "source": [
    "df_booking_data = []\n",
    "df_booking_data = pd.DataFrame(df_booking_data)"
   ]
  },
  {
   "cell_type": "code",
   "execution_count": 85,
   "metadata": {},
   "outputs": [],
   "source": [
    "df_booking_data['stay_dt'] = df_train['stay_dt'].values\n",
    "df_booking_data['rooms'] = df_train['rooms'].values"
   ]
  },
  {
   "cell_type": "code",
   "execution_count": 86,
   "metadata": {
    "collapsed": true
   },
   "outputs": [],
   "source": [
    "df_train = format_stay_dt_encode(df_train.loc[:,:].copy())\n",
    "df_test = format_stay_dt_test_encode(df_test.loc[:,:].copy())"
   ]
  },
  {
   "cell_type": "code",
   "execution_count": 87,
   "metadata": {
    "collapsed": true
   },
   "outputs": [],
   "source": [
    "#onehotencoder = OneHotEncoder()\n",
    "x_train = df_train.iloc[:,0:15].values\n",
    "y_train = df_train.iloc[:,15].values\n",
    "onehotencoder0 = OneHotEncoder(categorical_features = [12])\n",
    "x_train = onehotencoder0.fit_transform(x_train).toarray()"
   ]
  },
  {
   "cell_type": "code",
   "execution_count": 88,
   "metadata": {
    "collapsed": true
   },
   "outputs": [],
   "source": [
    "#encoding the test data as well\n",
    "x_test = df_test.iloc[:,1:16].values\n",
    "y_test = df_test.iloc[:,16].values\n",
    "x_test = onehotencoder0.transform(x_test).toarray()"
   ]
  },
  {
   "cell_type": "code",
   "execution_count": 89,
   "metadata": {
    "collapsed": true
   },
   "outputs": [],
   "source": [
    "def normalize(df):\n",
    "    df['avg_prediction'] = 0\n",
    "    idx = df.index\n",
    "    \n",
    "    first = (df.get_value(idx[0],'predict')+df.get_value(idx[1],'predict'))/2\n",
    "    df.set_value(idx[0],'avg_prediction',first)\n",
    "    pre= 0 \n",
    "    cur = df.get_value(idx[0],'predict')\n",
    "    nxt = df.get_value(idx[1],'predict')\n",
    "    avg = 0\n",
    "    for i in range(1,idx.size-1):\n",
    "        pre=cur\n",
    "        cur=nxt\n",
    "        nxt=df.get_value(idx[i+1],'predict')\n",
    "        avg = (pre+cur+nxt)/3\n",
    "        df.set_value(idx[i],'avg_prediction',avg)\n",
    "        \n",
    "    last = (df.get_value(idx[idx.size-1],'predict')+df.get_value(idx[idx.size-2],'predict'))/2\n",
    "    df.set_value(idx[idx.size-1],'avg_prediction',last)\n",
    "    return df"
   ]
  },
  {
   "cell_type": "code",
   "execution_count": 90,
   "metadata": {
    "collapsed": true
   },
   "outputs": [],
   "source": [
    "poly = PolynomialFeatures(degree = 2)\n",
    "x_train_poly = poly.fit_transform(x_train)\n",
    "lin = LinearRegression()\n",
    "lin.fit(x_train_poly , y_train)\n",
    "\n",
    "x_test_poly = poly.transform(x_test)\n",
    "y_pred = lin.predict(x_test_poly)\n",
    "\n",
    "test_pred_df = df_test\n",
    "test_pred_df['predict'] = y_pred"
   ]
  },
  {
   "cell_type": "code",
   "execution_count": 91,
   "metadata": {
    "collapsed": true
   },
   "outputs": [],
   "source": [
    "weekday_increment = 0\n",
    "weekend_increment = 0\n",
    "total_increment = yearly_change_factor(df_booking_data.iloc[:,:].copy(),12,2017)\n",
    "weekday_increment = 3 * total_increment / 28 \n",
    "weekend_increment = 4 * total_increment / 28 \n"
   ]
  },
  {
   "cell_type": "code",
   "execution_count": 92,
   "metadata": {
    "collapsed": true
   },
   "outputs": [],
   "source": [
    "for i in test_pred_df.index:\n",
    "    prediction = test_pred_df.get_value(i,'predict')\n",
    "    weekend = test_pred_df.get_value(i,'weekend')\n",
    "    if(prediction<0):\n",
    "        prediction = prediction * (-1)\n",
    "        test_pred_df.set_value(i,'predict',prediction)\n",
    "    if(weekend == 1):\n",
    "        test_pred_df.set_value(i,'predict',prediction + weekend_increment )\n",
    "    else:\n",
    "        test_pred_df.set_value(i,'predict',prediction + weekday_increment )"
   ]
  },
  {
   "cell_type": "code",
   "execution_count": 93,
   "metadata": {
    "collapsed": true
   },
   "outputs": [],
   "source": [
    "test_pred_df = normalize(test_pred_df)"
   ]
  },
  {
   "cell_type": "code",
   "execution_count": 94,
   "metadata": {},
   "outputs": [
    {
     "data": {
      "image/png": "[encoded data removed]",
      "text/plain": [
       "<Figure size 432x288 with 1 Axes>"
      ]
     },
     "metadata": {},
     "output_type": "display_data"
    }
   ],
   "source": [
    "plot.plot_date(test_pred_df['stay_dt'],test_pred_df['rooms'],'green')\n",
    "# green - Original number of bookings\n",
    "\n",
    "plot.plot_date(test_pred_df['stay_dt'],test_pred_df['predict'],'red')\n",
    "#red - Number of bookings predicted\n",
    "\n",
    "plot.plot_date(test_pred_df['stay_dt'],test_pred_df['avg_prediction'],'blue')\n",
    "#yellow - Number of bookings predicted\n",
    "plot.show()\n"
   ]
  },
  {
   "cell_type": "code",
   "execution_count": 95,
   "metadata": {},
   "outputs": [
    {
     "name": "stdout",
     "output_type": "stream",
     "text": [
      "12.3588808346\n"
     ]
    }
   ],
   "source": [
    "from sklearn import metrics\n",
    "print(np.sqrt(metrics.mean_squared_error(test_pred_df['rooms'], test_pred_df['avg_prediction'])))"
   ]
  },
  {
   "cell_type": "code",
   "execution_count": 96,
   "metadata": {},
   "outputs": [
    {
     "data": {
      "text/html": [
       "<div>\n",
       "<style>\n",
       "    .dataframe thead tr:only-child th {\n",
       "        text-align: right;\n",
       "    }\n",
       "\n",
       "    .dataframe thead th {\n",
       "        text-align: left;\n",
       "    }\n",
       "\n",
       "    .dataframe tbody tr th {\n",
       "        vertical-align: top;\n",
       "    }\n",
       "</style>\n",
       "<table border=\"1\" class=\"dataframe\">\n",
       "  <thead>\n",
       "    <tr style=\"text-align: right;\">\n",
       "      <th></th>\n",
       "      <th>stay_dt</th>\n",
       "      <th>rooms</th>\n",
       "      <th>predict</th>\n",
       "      <th>avg_prediction</th>\n",
       "    </tr>\n",
       "  </thead>\n",
       "  <tbody>\n",
       "    <tr>\n",
       "      <th>0</th>\n",
       "      <td>2018-12-01</td>\n",
       "      <td>87.0</td>\n",
       "      <td>91.351525</td>\n",
       "      <td>90</td>\n",
       "    </tr>\n",
       "    <tr>\n",
       "      <th>1</th>\n",
       "      <td>2018-12-02</td>\n",
       "      <td>74.0</td>\n",
       "      <td>89.738305</td>\n",
       "      <td>81</td>\n",
       "    </tr>\n",
       "    <tr>\n",
       "      <th>2</th>\n",
       "      <td>2018-12-03</td>\n",
       "      <td>56.0</td>\n",
       "      <td>62.917132</td>\n",
       "      <td>71</td>\n",
       "    </tr>\n",
       "    <tr>\n",
       "      <th>3</th>\n",
       "      <td>2018-12-04</td>\n",
       "      <td>52.0</td>\n",
       "      <td>60.961504</td>\n",
       "      <td>62</td>\n",
       "    </tr>\n",
       "    <tr>\n",
       "      <th>4</th>\n",
       "      <td>2018-12-05</td>\n",
       "      <td>74.0</td>\n",
       "      <td>64.493304</td>\n",
       "      <td>66</td>\n",
       "    </tr>\n",
       "    <tr>\n",
       "      <th>5</th>\n",
       "      <td>2018-12-06</td>\n",
       "      <td>84.0</td>\n",
       "      <td>73.686480</td>\n",
       "      <td>73</td>\n",
       "    </tr>\n",
       "    <tr>\n",
       "      <th>6</th>\n",
       "      <td>2018-12-07</td>\n",
       "      <td>80.0</td>\n",
       "      <td>82.629296</td>\n",
       "      <td>80</td>\n",
       "    </tr>\n",
       "    <tr>\n",
       "      <th>7</th>\n",
       "      <td>2018-12-08</td>\n",
       "      <td>77.0</td>\n",
       "      <td>83.794213</td>\n",
       "      <td>83</td>\n",
       "    </tr>\n",
       "    <tr>\n",
       "      <th>8</th>\n",
       "      <td>2018-12-09</td>\n",
       "      <td>37.0</td>\n",
       "      <td>82.981530</td>\n",
       "      <td>74</td>\n",
       "    </tr>\n",
       "    <tr>\n",
       "      <th>9</th>\n",
       "      <td>2018-12-10</td>\n",
       "      <td>50.0</td>\n",
       "      <td>57.582659</td>\n",
       "      <td>65</td>\n",
       "    </tr>\n",
       "    <tr>\n",
       "      <th>10</th>\n",
       "      <td>2018-12-11</td>\n",
       "      <td>53.0</td>\n",
       "      <td>56.381914</td>\n",
       "      <td>58</td>\n",
       "    </tr>\n",
       "    <tr>\n",
       "      <th>11</th>\n",
       "      <td>2018-12-12</td>\n",
       "      <td>66.0</td>\n",
       "      <td>60.354754</td>\n",
       "      <td>61</td>\n",
       "    </tr>\n",
       "    <tr>\n",
       "      <th>12</th>\n",
       "      <td>2018-12-13</td>\n",
       "      <td>78.0</td>\n",
       "      <td>68.842547</td>\n",
       "      <td>69</td>\n",
       "    </tr>\n",
       "    <tr>\n",
       "      <th>13</th>\n",
       "      <td>2018-12-14</td>\n",
       "      <td>81.0</td>\n",
       "      <td>78.618370</td>\n",
       "      <td>75</td>\n",
       "    </tr>\n",
       "    <tr>\n",
       "      <th>14</th>\n",
       "      <td>2018-12-15</td>\n",
       "      <td>76.0</td>\n",
       "      <td>79.330040</td>\n",
       "      <td>79</td>\n",
       "    </tr>\n",
       "    <tr>\n",
       "      <th>15</th>\n",
       "      <td>2018-12-16</td>\n",
       "      <td>65.0</td>\n",
       "      <td>79.317894</td>\n",
       "      <td>71</td>\n",
       "    </tr>\n",
       "    <tr>\n",
       "      <th>16</th>\n",
       "      <td>2018-12-17</td>\n",
       "      <td>39.0</td>\n",
       "      <td>55.341265</td>\n",
       "      <td>63</td>\n",
       "    </tr>\n",
       "    <tr>\n",
       "      <th>17</th>\n",
       "      <td>2018-12-18</td>\n",
       "      <td>37.0</td>\n",
       "      <td>54.895403</td>\n",
       "      <td>56</td>\n",
       "    </tr>\n",
       "    <tr>\n",
       "      <th>18</th>\n",
       "      <td>2018-12-19</td>\n",
       "      <td>43.0</td>\n",
       "      <td>59.309344</td>\n",
       "      <td>60</td>\n",
       "    </tr>\n",
       "    <tr>\n",
       "      <th>19</th>\n",
       "      <td>2018-12-20</td>\n",
       "      <td>53.0</td>\n",
       "      <td>67.091692</td>\n",
       "      <td>68</td>\n",
       "    </tr>\n",
       "    <tr>\n",
       "      <th>20</th>\n",
       "      <td>2018-12-21</td>\n",
       "      <td>62.0</td>\n",
       "      <td>77.700768</td>\n",
       "      <td>74</td>\n",
       "    </tr>\n",
       "    <tr>\n",
       "      <th>21</th>\n",
       "      <td>2018-12-22</td>\n",
       "      <td>74.0</td>\n",
       "      <td>77.958947</td>\n",
       "      <td>78</td>\n",
       "    </tr>\n",
       "    <tr>\n",
       "      <th>22</th>\n",
       "      <td>2018-12-23</td>\n",
       "      <td>58.0</td>\n",
       "      <td>78.747399</td>\n",
       "      <td>70</td>\n",
       "    </tr>\n",
       "    <tr>\n",
       "      <th>23</th>\n",
       "      <td>2018-12-24</td>\n",
       "      <td>50.0</td>\n",
       "      <td>56.193072</td>\n",
       "      <td>63</td>\n",
       "    </tr>\n",
       "    <tr>\n",
       "      <th>24</th>\n",
       "      <td>2018-12-25</td>\n",
       "      <td>48.0</td>\n",
       "      <td>56.502093</td>\n",
       "      <td>58</td>\n",
       "    </tr>\n",
       "    <tr>\n",
       "      <th>25</th>\n",
       "      <td>2018-12-26</td>\n",
       "      <td>59.0</td>\n",
       "      <td>61.357012</td>\n",
       "      <td>62</td>\n",
       "    </tr>\n",
       "    <tr>\n",
       "      <th>26</th>\n",
       "      <td>2018-12-27</td>\n",
       "      <td>64.0</td>\n",
       "      <td>68.434038</td>\n",
       "      <td>69</td>\n",
       "    </tr>\n",
       "    <tr>\n",
       "      <th>27</th>\n",
       "      <td>2018-12-28</td>\n",
       "      <td>68.0</td>\n",
       "      <td>79.876244</td>\n",
       "      <td>75</td>\n",
       "    </tr>\n",
       "    <tr>\n",
       "      <th>28</th>\n",
       "      <td>2018-12-29</td>\n",
       "      <td>71.0</td>\n",
       "      <td>79.681115</td>\n",
       "      <td>80</td>\n",
       "    </tr>\n",
       "    <tr>\n",
       "      <th>29</th>\n",
       "      <td>2018-12-30</td>\n",
       "      <td>69.0</td>\n",
       "      <td>81.269982</td>\n",
       "      <td>73</td>\n",
       "    </tr>\n",
       "    <tr>\n",
       "      <th>30</th>\n",
       "      <td>2018-12-31</td>\n",
       "      <td>59.0</td>\n",
       "      <td>60.138018</td>\n",
       "      <td>70</td>\n",
       "    </tr>\n",
       "  </tbody>\n",
       "</table>\n",
       "</div>"
      ],
      "text/plain": [
       "      stay_dt  rooms    predict  avg_prediction\n",
       "0  2018-12-01   87.0  91.351525              90\n",
       "1  2018-12-02   74.0  89.738305              81\n",
       "2  2018-12-03   56.0  62.917132              71\n",
       "3  2018-12-04   52.0  60.961504              62\n",
       "4  2018-12-05   74.0  64.493304              66\n",
       "5  2018-12-06   84.0  73.686480              73\n",
       "6  2018-12-07   80.0  82.629296              80\n",
       "7  2018-12-08   77.0  83.794213              83\n",
       "8  2018-12-09   37.0  82.981530              74\n",
       "9  2018-12-10   50.0  57.582659              65\n",
       "10 2018-12-11   53.0  56.381914              58\n",
       "11 2018-12-12   66.0  60.354754              61\n",
       "12 2018-12-13   78.0  68.842547              69\n",
       "13 2018-12-14   81.0  78.618370              75\n",
       "14 2018-12-15   76.0  79.330040              79\n",
       "15 2018-12-16   65.0  79.317894              71\n",
       "16 2018-12-17   39.0  55.341265              63\n",
       "17 2018-12-18   37.0  54.895403              56\n",
       "18 2018-12-19   43.0  59.309344              60\n",
       "19 2018-12-20   53.0  67.091692              68\n",
       "20 2018-12-21   62.0  77.700768              74\n",
       "21 2018-12-22   74.0  77.958947              78\n",
       "22 2018-12-23   58.0  78.747399              70\n",
       "23 2018-12-24   50.0  56.193072              63\n",
       "24 2018-12-25   48.0  56.502093              58\n",
       "25 2018-12-26   59.0  61.357012              62\n",
       "26 2018-12-27   64.0  68.434038              69\n",
       "27 2018-12-28   68.0  79.876244              75\n",
       "28 2018-12-29   71.0  79.681115              80\n",
       "29 2018-12-30   69.0  81.269982              73\n",
       "30 2018-12-31   59.0  60.138018              70"
      ]
     },
     "execution_count": 96,
     "metadata": {},
     "output_type": "execute_result"
    }
   ],
   "source": [
    "test_pred_df[['stay_dt','rooms','predict','avg_prediction']]"
   ]
  },
  {
   "cell_type": "code",
   "execution_count": 79,
   "metadata": {
    "collapsed": true
   },
   "outputs": [],
   "source": [
    "# -----Without Normalization ----\n",
    "#=================================\n",
    "# 1st degree mse = 12.1676682343 \n",
    "# 2nd degree mse = 12.161907418\n",
    "# 3rd degree mse = 14.565\n",
    "# 4th degree mse = 15.938\n",
    "# 5th degree mse = 20.222\n",
    "# 6th degree mse = 62.015"
   ]
  },
  {
   "cell_type": "code",
   "execution_count": 80,
   "metadata": {
    "collapsed": true
   },
   "outputs": [],
   "source": [
    "# -----Using Normalization----\n",
    "#=================================\n",
    "# 1st degree mse = 12.5\n",
    "# 2nd degree mse = 10.89\n",
    "# 3rd degree mse = 12.62\n",
    "# 4th degree mse = 13.2\n",
    "# 5th degree mse = 15.07\n",
    "# 6th degree mse = 40.025"
   ]
  },
  {
   "cell_type": "code",
   "execution_count": null,
   "metadata": {
    "collapsed": true
   },
   "outputs": [],
   "source": []
  }
 ],
 "metadata": {
  "kernelspec": {
   "display_name": "Python 3",
   "language": "python",
   "name": "python3"
  },
  "language_info": {
   "codemirror_mode": {
    "name": "ipython",
    "version": 3
   },
   "file_extension": ".py",
   "mimetype": "text/x-python",
   "name": "python",
   "nbconvert_exporter": "python",
   "pygments_lexer": "ipython3",
   "version": "3.6.6"
  }
 },
 "nbformat": 4,
 "nbformat_minor": 2
}
