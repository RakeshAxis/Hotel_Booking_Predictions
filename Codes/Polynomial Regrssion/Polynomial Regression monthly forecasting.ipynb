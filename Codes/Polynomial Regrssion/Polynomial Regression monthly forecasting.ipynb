{
 "cells": [
  {
   "cell_type": "code",
   "execution_count": 2,
   "metadata": {
    "collapsed": true
   },
   "outputs": [],
   "source": [
    "# hotel_id = 57b66e62916bb9001839f1d5 , of casino hotel\n",
    "# Polynomial Regression model\n",
    "\n",
    "import numpy as np\n",
    "import pandas as pd\n",
    "from sklearn.preprocessing import PolynomialFeatures\n",
    "import calendar\n",
    "import pymongo\n",
    "import urllib.parse\n",
    "from datetime import date\n",
    "from pandas import DatetimeIndex\n",
    "from sklearn.linear_model import LinearRegression\n",
    "from sklearn.preprocessing import LabelEncoder , OneHotEncoder\n",
    "import matplotlib.pyplot as plt"
   ]
  },
  {
   "cell_type": "code",
   "execution_count": 3,
   "metadata": {
    "collapsed": true
   },
   "outputs": [],
   "source": [
    "def get_booking_data(hotel_id):\n",
    "    booking_data = df_bookings[df_bookings.hotel_id == hotel_id]\n",
    "    booking_data = booking_data[booking_data.cancelled == False]\n",
    "    booking_data = booking_data.groupby(['stay_dt'],as_index=False)[['rooms']].sum()\n",
    "    booking_data['stay_dt'] = pd.to_datetime(booking_data['stay_dt'])\n",
    "    return booking_data\n"
   ]
  },
  {
   "cell_type": "code",
   "execution_count": 64,
   "metadata": {},
   "outputs": [
    {
     "name": "stderr",
     "output_type": "stream",
     "text": [
      "C:\\Users\\Rakesh\\Anaconda3\\lib\\site-packages\\IPython\\core\\interactiveshell.py:2717: DtypeWarning: Columns (4,5,10,12,15,17,18,19) have mixed types. Specify dtype option on import or set low_memory=False.\n",
      "  interactivity=interactivity, compiler=compiler, result=result)\n"
     ]
    }
   ],
   "source": [
    "df_bookings = pd.read_csv(\"C:\\\\Users\\\\Rakesh\\\\OneDrive\\\\Documents\\\\Data\\\\booking.csv\")\n",
    "#df_hotels = pd.read_csv(\"C:\\\\Users\\\\Rakesh\\\\OneDrive\\\\Documents\\\\Data\\\\hotel.csv\")\n",
    "\n",
    "# Testing for casino hotel only\n",
    "\n",
    "hotel_id = '57b66e62916bb9001839f1d5'\n",
    "booking_data = get_booking_data(hotel_id)\n",
    "#hotel_data = get_hotel_data(hotel_id)"
   ]
  },
  {
   "cell_type": "code",
   "execution_count": 65,
   "metadata": {},
   "outputs": [],
   "source": [
    "def prev_yr_month(df):\n",
    "    for i in df.index:\n",
    "        yy = df.get_value(i,'year')\n",
    "        mm = df.get_value(i,'month')\n",
    "        prev_yr = df.loc[(df['year']==yy-1)&(df['month']==mm)]['rooms']\n",
    "        if(prev_yr.size > 0):\n",
    "            df.set_value(i,'prev_yr_bookings',prev_yr)\n",
    "    return df"
   ]
  },
  {
   "cell_type": "code",
   "execution_count": 90,
   "metadata": {
    "collapsed": true
   },
   "outputs": [],
   "source": [
    "def monthwise(df):\n",
    "    for i in df.index:\n",
    "        stay_dt = df.get_value(i,'stay_dt')\n",
    "        mm = stay_dt.month\n",
    "        yy = stay_dt.year\n",
    "        df.set_value(i,'month',mm)\n",
    "        df.set_value(i,'year',yy)\n",
    "    df = df.groupby(['month','year'],as_index=False)[['rooms']].sum()\n",
    "    df['prev_yr_bookings'] = 0.0\n",
    "    df = prev_yr_month(df)\n",
    "    df = df[['year','month','prev_yr_bookings','rooms']]\n",
    "    df = df.sort_values(by=['year', 'month'],ascending =True)\n",
    "    return df"
   ]
  },
  {
   "cell_type": "code",
   "execution_count": 179,
   "metadata": {
    "collapsed": true
   },
   "outputs": [],
   "source": [
    "df_booking = monthwise(booking_data.copy())\n",
    "\n",
    "df_train = df_booking[df_booking.year<2018]\n",
    "\n",
    "df_test = df_booking[(df_booking.year>=2018) & (df_booking.year<2019)]"
   ]
  },
  {
   "cell_type": "code",
   "execution_count": 180,
   "metadata": {},
   "outputs": [
    {
     "data": {
      "text/html": [
       "<div>\n",
       "<style>\n",
       "    .dataframe thead tr:only-child th {\n",
       "        text-align: right;\n",
       "    }\n",
       "\n",
       "    .dataframe thead th {\n",
       "        text-align: left;\n",
       "    }\n",
       "\n",
       "    .dataframe tbody tr th {\n",
       "        vertical-align: top;\n",
       "    }\n",
       "</style>\n",
       "<table border=\"1\" class=\"dataframe\">\n",
       "  <thead>\n",
       "    <tr style=\"text-align: right;\">\n",
       "      <th></th>\n",
       "      <th>year</th>\n",
       "      <th>month</th>\n",
       "      <th>prev_yr_bookings</th>\n",
       "      <th>rooms</th>\n",
       "    </tr>\n",
       "  </thead>\n",
       "  <tbody>\n",
       "    <tr>\n",
       "      <th>36</th>\n",
       "      <td>2010.0</td>\n",
       "      <td>5.0</td>\n",
       "      <td>0.0</td>\n",
       "      <td>1.0</td>\n",
       "    </tr>\n",
       "    <tr>\n",
       "      <th>0</th>\n",
       "      <td>2011.0</td>\n",
       "      <td>1.0</td>\n",
       "      <td>0.0</td>\n",
       "      <td>28.0</td>\n",
       "    </tr>\n",
       "    <tr>\n",
       "      <th>10</th>\n",
       "      <td>2011.0</td>\n",
       "      <td>2.0</td>\n",
       "      <td>0.0</td>\n",
       "      <td>20.0</td>\n",
       "    </tr>\n",
       "    <tr>\n",
       "      <th>67</th>\n",
       "      <td>2011.0</td>\n",
       "      <td>9.0</td>\n",
       "      <td>0.0</td>\n",
       "      <td>42.0</td>\n",
       "    </tr>\n",
       "    <tr>\n",
       "      <th>77</th>\n",
       "      <td>2011.0</td>\n",
       "      <td>10.0</td>\n",
       "      <td>0.0</td>\n",
       "      <td>140.0</td>\n",
       "    </tr>\n",
       "  </tbody>\n",
       "</table>\n",
       "</div>"
      ],
      "text/plain": [
       "      year  month  prev_yr_bookings  rooms\n",
       "36  2010.0    5.0               0.0    1.0\n",
       "0   2011.0    1.0               0.0   28.0\n",
       "10  2011.0    2.0               0.0   20.0\n",
       "67  2011.0    9.0               0.0   42.0\n",
       "77  2011.0   10.0               0.0  140.0"
      ]
     },
     "execution_count": 180,
     "metadata": {},
     "output_type": "execute_result"
    }
   ],
   "source": [
    "df_train.head()"
   ]
  },
  {
   "cell_type": "code",
   "execution_count": 181,
   "metadata": {
    "collapsed": true
   },
   "outputs": [],
   "source": [
    "train_x = df_train.iloc[:,1:3].values\n",
    "train_y = df_train.iloc[:,3].values\n",
    "test_x = df_test.iloc[:,1:3].values\n",
    "test_y = df_test.iloc[:,3].values"
   ]
  },
  {
   "cell_type": "code",
   "execution_count": 182,
   "metadata": {},
   "outputs": [],
   "source": [
    "month_encoder = OneHotEncoder(categorical_features = [0])\n",
    "\n",
    "train_x = month_encoder.fit_transform(train_x).toarray()\n",
    "test_x = month_encoder.transform(test_x).toarray()"
   ]
  },
  {
   "cell_type": "code",
   "execution_count": 183,
   "metadata": {},
   "outputs": [
    {
     "data": {
      "text/plain": [
       "(70, 13)"
      ]
     },
     "execution_count": 183,
     "metadata": {},
     "output_type": "execute_result"
    }
   ],
   "source": [
    "train_x.shape"
   ]
  },
  {
   "cell_type": "code",
   "execution_count": 196,
   "metadata": {},
   "outputs": [],
   "source": [
    "poly = PolynomialFeatures( degree = 1 )\n",
    "x_train_poly = poly.fit_transform(train_x)\n",
    "lin = LinearRegression()\n",
    "lin.fit(x_train_poly , train_y)\n",
    "\n",
    "x_test_poly = poly.transform(test_x)\n",
    "y_pred = lin.predict(x_test_poly)\n",
    "\n",
    "test_pred_df = df_test\n"
   ]
  },
  {
   "cell_type": "code",
   "execution_count": 197,
   "metadata": {
    "scrolled": false
   },
   "outputs": [
    {
     "name": "stderr",
     "output_type": "stream",
     "text": [
      "C:\\Users\\Rakesh\\Anaconda3\\lib\\site-packages\\ipykernel_launcher.py:1: SettingWithCopyWarning: \n",
      "A value is trying to be set on a copy of a slice from a DataFrame.\n",
      "Try using .loc[row_indexer,col_indexer] = value instead\n",
      "\n",
      "See the caveats in the documentation: http://pandas.pydata.org/pandas-docs/stable/indexing.html#indexing-view-versus-copy\n",
      "  \"\"\"Entry point for launching an IPython kernel.\n"
     ]
    }
   ],
   "source": [
    "test_pred_df['predict'] = y_pred"
   ]
  },
  {
   "cell_type": "code",
   "execution_count": 198,
   "metadata": {},
   "outputs": [
    {
     "data": {
      "text/html": [
       "<div>\n",
       "<style>\n",
       "    .dataframe thead tr:only-child th {\n",
       "        text-align: right;\n",
       "    }\n",
       "\n",
       "    .dataframe thead th {\n",
       "        text-align: left;\n",
       "    }\n",
       "\n",
       "    .dataframe tbody tr th {\n",
       "        vertical-align: top;\n",
       "    }\n",
       "</style>\n",
       "<table border=\"1\" class=\"dataframe\">\n",
       "  <thead>\n",
       "    <tr style=\"text-align: right;\">\n",
       "      <th></th>\n",
       "      <th>year</th>\n",
       "      <th>month</th>\n",
       "      <th>prev_yr_bookings</th>\n",
       "      <th>rooms</th>\n",
       "      <th>predict</th>\n",
       "    </tr>\n",
       "  </thead>\n",
       "  <tbody>\n",
       "    <tr>\n",
       "      <th>7</th>\n",
       "      <td>2018.0</td>\n",
       "      <td>1.0</td>\n",
       "      <td>854.0</td>\n",
       "      <td>2719.0</td>\n",
       "      <td>1249.879990</td>\n",
       "    </tr>\n",
       "    <tr>\n",
       "      <th>17</th>\n",
       "      <td>2018.0</td>\n",
       "      <td>2.0</td>\n",
       "      <td>1270.0</td>\n",
       "      <td>2190.0</td>\n",
       "      <td>1858.770040</td>\n",
       "    </tr>\n",
       "    <tr>\n",
       "      <th>26</th>\n",
       "      <td>2018.0</td>\n",
       "      <td>3.0</td>\n",
       "      <td>2068.0</td>\n",
       "      <td>1770.0</td>\n",
       "      <td>3065.026686</td>\n",
       "    </tr>\n",
       "    <tr>\n",
       "      <th>33</th>\n",
       "      <td>2018.0</td>\n",
       "      <td>4.0</td>\n",
       "      <td>1684.0</td>\n",
       "      <td>1442.0</td>\n",
       "      <td>2636.219276</td>\n",
       "    </tr>\n",
       "    <tr>\n",
       "      <th>41</th>\n",
       "      <td>2018.0</td>\n",
       "      <td>5.0</td>\n",
       "      <td>1107.0</td>\n",
       "      <td>1486.0</td>\n",
       "      <td>1665.386727</td>\n",
       "    </tr>\n",
       "    <tr>\n",
       "      <th>49</th>\n",
       "      <td>2018.0</td>\n",
       "      <td>6.0</td>\n",
       "      <td>756.0</td>\n",
       "      <td>1501.0</td>\n",
       "      <td>1118.760106</td>\n",
       "    </tr>\n",
       "    <tr>\n",
       "      <th>57</th>\n",
       "      <td>2018.0</td>\n",
       "      <td>7.0</td>\n",
       "      <td>926.0</td>\n",
       "      <td>1788.0</td>\n",
       "      <td>1376.362400</td>\n",
       "    </tr>\n",
       "    <tr>\n",
       "      <th>65</th>\n",
       "      <td>2018.0</td>\n",
       "      <td>8.0</td>\n",
       "      <td>1403.0</td>\n",
       "      <td>1757.0</td>\n",
       "      <td>2077.555947</td>\n",
       "    </tr>\n",
       "    <tr>\n",
       "      <th>74</th>\n",
       "      <td>2018.0</td>\n",
       "      <td>9.0</td>\n",
       "      <td>1424.0</td>\n",
       "      <td>1838.0</td>\n",
       "      <td>2017.827058</td>\n",
       "    </tr>\n",
       "    <tr>\n",
       "      <th>83</th>\n",
       "      <td>2018.0</td>\n",
       "      <td>10.0</td>\n",
       "      <td>1295.0</td>\n",
       "      <td>1943.0</td>\n",
       "      <td>1884.472303</td>\n",
       "    </tr>\n",
       "    <tr>\n",
       "      <th>92</th>\n",
       "      <td>2018.0</td>\n",
       "      <td>11.0</td>\n",
       "      <td>1054.0</td>\n",
       "      <td>2317.0</td>\n",
       "      <td>1564.224012</td>\n",
       "    </tr>\n",
       "    <tr>\n",
       "      <th>101</th>\n",
       "      <td>2018.0</td>\n",
       "      <td>12.0</td>\n",
       "      <td>1170.0</td>\n",
       "      <td>1944.0</td>\n",
       "      <td>1728.964173</td>\n",
       "    </tr>\n",
       "  </tbody>\n",
       "</table>\n",
       "</div>"
      ],
      "text/plain": [
       "       year  month  prev_yr_bookings   rooms      predict\n",
       "7    2018.0    1.0             854.0  2719.0  1249.879990\n",
       "17   2018.0    2.0            1270.0  2190.0  1858.770040\n",
       "26   2018.0    3.0            2068.0  1770.0  3065.026686\n",
       "33   2018.0    4.0            1684.0  1442.0  2636.219276\n",
       "41   2018.0    5.0            1107.0  1486.0  1665.386727\n",
       "49   2018.0    6.0             756.0  1501.0  1118.760106\n",
       "57   2018.0    7.0             926.0  1788.0  1376.362400\n",
       "65   2018.0    8.0            1403.0  1757.0  2077.555947\n",
       "74   2018.0    9.0            1424.0  1838.0  2017.827058\n",
       "83   2018.0   10.0            1295.0  1943.0  1884.472303\n",
       "92   2018.0   11.0            1054.0  2317.0  1564.224012\n",
       "101  2018.0   12.0            1170.0  1944.0  1728.964173"
      ]
     },
     "execution_count": 198,
     "metadata": {},
     "output_type": "execute_result"
    }
   ],
   "source": [
    "test_pred_df"
   ]
  },
  {
   "cell_type": "code",
   "execution_count": 199,
   "metadata": {},
   "outputs": [
    {
     "name": "stdout",
     "output_type": "stream",
     "text": [
      "734.304921191608\n"
     ]
    }
   ],
   "source": [
    "from sklearn import metrics\n",
    "print(np.sqrt(metrics.mean_squared_error(test_pred_df['rooms'], test_pred_df['predict'])))"
   ]
  },
  {
   "cell_type": "code",
   "execution_count": null,
   "metadata": {
    "collapsed": true
   },
   "outputs": [],
   "source": []
  }
 ],
 "metadata": {
  "kernelspec": {
   "display_name": "Python 3",
   "language": "python",
   "name": "python3"
  },
  "language_info": {
   "codemirror_mode": {
    "name": "ipython",
    "version": 3
   },
   "file_extension": ".py",
   "mimetype": "text/x-python",
   "name": "python",
   "nbconvert_exporter": "python",
   "pygments_lexer": "ipython3",
   "version": "3.6.6"
  }
 },
 "nbformat": 4,
 "nbformat_minor": 2
}
