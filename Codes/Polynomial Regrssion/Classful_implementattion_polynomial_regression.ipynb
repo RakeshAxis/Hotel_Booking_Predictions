{
 "cells": [
  {
   "cell_type": "code",
   "execution_count": 1,
   "metadata": {
    "collapsed": true
   },
   "outputs": [],
   "source": [
    "import numpy as np\n",
    "import pandas as pd\n",
    "from sklearn.preprocessing import PolynomialFeatures\n",
    "import calendar\n",
    "import pymongo\n",
    "import urllib.parse\n",
    "from datetime import date\n",
    "from pandas import DatetimeIndex\n",
    "from sklearn.linear_model import LinearRegression\n",
    "from sklearn.preprocessing import LabelEncoder , OneHotEncoder\n",
    "import matplotlib.pyplot as plot \n",
    "import datetime"
   ]
  },
  {
   "cell_type": "code",
   "execution_count": 2,
   "metadata": {
    "collapsed": true
   },
   "outputs": [],
   "source": [
    "def initialize(df):\n",
    "    df['Jan'] = 0 \n",
    "    df['Feb'] = 0\n",
    "    df['Mar'] = 0\n",
    "    df['Apr'] = 0\n",
    "    df['May'] = 0\n",
    "    df['Jun'] = 0\n",
    "    df['Jul'] = 0\n",
    "    df['Aug'] = 0\n",
    "    df['Sep'] = 0\n",
    "    df['Oct'] = 0\n",
    "    df['Nov'] = 0\n",
    "    df['Dec'] = 0\n",
    "    return df"
   ]
  },
  {
   "cell_type": "code",
   "execution_count": 12,
   "metadata": {
    "collapsed": true
   },
   "outputs": [],
   "source": [
    "def format_training_dates(df):\n",
    "    df = initialize(df)\n",
    "    for i in df.index:\n",
    "        stay_dt = df.get_value(i,'stay_dt')\n",
    "        mm = stay_dt.month\n",
    "        dd = stay_dt.day\n",
    "        df.set_value(i,'day',dd)\n",
    "        week_day = stay_dt.weekday()\n",
    "        df.set_value(i,'week_day',week_day)\n",
    "        if(week_day==6 or week_day ==5 or week_day==4):\n",
    "            df.set_value(i,'weekend',1)\n",
    "        else:\n",
    "            df.set_value(i,'weekend',0)\n",
    "        if mm == 1 : df.set_value(i,'Jan',1)\n",
    "        elif mm == 2 : df.set_value(i,'Feb',1)\n",
    "        elif mm == 3 : df.set_value(i,'Mar',1)\n",
    "        elif mm == 4 : df.set_value(i,'Apr',1)\n",
    "        elif mm == 5 : df.set_value(i,'May',1)\n",
    "        elif mm == 6 : df.set_value(i,'Jun',1)\n",
    "        elif mm == 7 : df.set_value(i,'Jul',1)\n",
    "        elif mm == 8 : df.set_value(i,'Aug',1)\n",
    "        elif mm == 9 : df.set_value(i,'Sep',1)\n",
    "        elif mm == 10 : df.set_value(i,'Oct',1)\n",
    "        elif mm == 11 : df.set_value(i,'Nov',1)\n",
    "        elif mm == 12 : df.set_value(i,'Dec',1)\n",
    "    df = df[['Jan','Feb','Mar','Apr','May','Jun','Jul','Aug','Sep','Oct','Nov','Dec','week_day','day','weekend','rooms']]\n",
    "    df = df.groupby(['Jan','Feb','Mar','Apr','May','Jun','Jul','Aug','Sep','Oct','Nov','Dec','week_day','day','weekend'],as_index=False)[['rooms']].mean()\n",
    "    return df"
   ]
  },
  {
   "cell_type": "code",
   "execution_count": 4,
   "metadata": {
    "collapsed": true
   },
   "outputs": [],
   "source": [
    "def format_prediction_dates(df):\n",
    "    df = initialize(df)\n",
    "    for i in df.index:\n",
    "        stay_dt = df.get_value(i,'stay_dt')\n",
    "        mm = stay_dt.month\n",
    "        dd = stay_dt.day\n",
    "        df.set_value(i,'day',dd)\n",
    "        week_day = stay_dt.weekday()\n",
    "        df.set_value(i,'week_day',week_day)\n",
    "        if(week_day==6 or week_day ==5 or week_day==4):\n",
    "            df.set_value(i,'weekend',1)\n",
    "        else:\n",
    "            df.set_value(i,'weekend',0)\n",
    "        if mm == 1 : df.set_value(i,'Jan',1)\n",
    "        elif mm == 2 : df.set_value(i,'Feb',1)\n",
    "        elif mm == 3 : df.set_value(i,'Mar',1)\n",
    "        elif mm == 4 : df.set_value(i,'Apr',1)\n",
    "        elif mm == 5 : df.set_value(i,'May',1)\n",
    "        elif mm == 6 : df.set_value(i,'Jun',1)\n",
    "        elif mm == 7 : df.set_value(i,'Jul',1)\n",
    "        elif mm == 8 : df.set_value(i,'Aug',1)\n",
    "        elif mm == 9 : df.set_value(i,'Sep',1)\n",
    "        elif mm == 10 : df.set_value(i,'Oct',1)\n",
    "        elif mm == 11 : df.set_value(i,'Nov',1)\n",
    "        elif mm == 12 : df.set_value(i,'Dec',1)\n",
    "    df = df[['stay_dt','Jan','Feb','Mar','Apr','May','Jun','Jul','Aug','Sep','Oct','Nov','Dec','week_day','day','weekend']]\n",
    "    return df\n",
    "    "
   ]
  },
  {
   "cell_type": "code",
   "execution_count": 5,
   "metadata": {
    "collapsed": true
   },
   "outputs": [],
   "source": [
    "def generate_stay_dt(month,year):\n",
    "    start_date = pd.to_datetime(str(year)+'-'+str(month)+'-01')\n",
    "    mm = start_date.month\n",
    "    df = []\n",
    "    df = pd.DataFrame(df)\n",
    "    while (mm == start_date.month):\n",
    "        df = df.append({'stay_dt':start_date},ignore_index = True)\n",
    "        start_date+= datetime.timedelta(days=1)\n",
    "    return df"
   ]
  },
  {
   "cell_type": "code",
   "execution_count": 52,
   "metadata": {
    "collapsed": true
   },
   "outputs": [],
   "source": [
    "def yearly_change_factor(df,month,prev_yr):\n",
    "    \n",
    "    for i in df.index:\n",
    "        stay_date = df.get_value(i,'stay_dt')\n",
    "        mm = stay_date.month\n",
    "        yy = stay_date.year\n",
    "        df.set_value(i,'month',mm)\n",
    "        df.set_value(i,'year',yy)\n",
    "    df = df.groupby(['year','month'],as_index = False)[['rooms']].sum()\n",
    "    df = df[(df.month == month) & (df.year <= prev_yr)]\n",
    "    idx = df.index\n",
    "    l = idx.size\n",
    "    if (l <= 1):\n",
    "        return 0\n",
    "    j = idx[l-1]\n",
    "    k = idx[l-2]\n",
    "    \n",
    "    factor = (df.get_value(j,'rooms'))/(df.get_value(k,'rooms'))\n",
    "    if((factor > 1.5) and (factor < 2)):\n",
    "         factor = factor * (1/22 + 1/19 + 1/18  + 1/17 )\n",
    "    elif (factor > 2):\n",
    "         factor = factor*( 1/44 + 1/38 + 1/36 + 1/34)\n",
    "     \n",
    "    increment = factor * (df.get_value(j,'rooms'))\n",
    "    return increment"
   ]
  },
  {
   "cell_type": "code",
   "execution_count": 7,
   "metadata": {},
   "outputs": [
    {
     "name": "stderr",
     "output_type": "stream",
     "text": [
      "C:\\Users\\Rakesh\\Anaconda3\\lib\\site-packages\\IPython\\core\\interactiveshell.py:2821: DtypeWarning: Columns (4,5,10,12,15,17,18,19) have mixed types. Specify dtype option on import or set low_memory=False.\n",
      "  if self.run_code(code, result):\n"
     ]
    }
   ],
   "source": [
    "class Booking_prediction:\n",
    "    \n",
    "    # # Wherever booking data is stored :) \n",
    "    df_bookings = pd.read_csv(\"C:\\\\Users\\\\Rakesh\\\\OneDrive\\\\Documents\\\\Data\\\\booking.csv\")\n",
    "    \n",
    "    ## Constructor takes one argument hotel_id\n",
    "    def __init__ (self,hotel_id):\n",
    "        \n",
    "        # Selecting only the relevant data\n",
    "        self.hotel_id = hotel_id\n",
    "        self.booking_data = Booking_prediction.df_bookings[Booking_prediction.df_bookings.hotel_id == hotel_id]\n",
    "        self.booking_data = self.booking_data[self.booking_data.cancelled == False]\n",
    "        self.booking_data = self.booking_data.groupby(['stay_dt'],as_index=False)[['rooms']].sum()\n",
    "        self.booking_data['stay_dt'] = pd.to_datetime(self.booking_data['stay_dt'])\n",
    "        self.df_train  = self.booking_data.loc[:,:].copy()\n",
    "        self.df_train = format_training_dates(self.df_train.loc[:,:].copy())\n",
    "        \n",
    "        # training the model on the relevant data_set\n",
    "        x_train = self.df_train.iloc[:,0:15].values\n",
    "        y_train = self.df_train.iloc[:,15].values\n",
    "        self.onehot = OneHotEncoder(categorical_features = [12])\n",
    "        x_train = self.onehot.fit_transform(x_train).toarray()\n",
    "        \n",
    "        self.poly = PolynomialFeatures(degree =2)\n",
    "        x_train_poly = self.poly.fit_transform(x_train)\n",
    "        self.lin = LinearRegression()\n",
    "        self.lin.fit(x_train_poly,y_train)\n",
    "    \n",
    "    # Month wise predictions only upto nxt year is possible\n",
    "    # if current data upto 2018 , prediction of 2019 data only , predicting 2020 will give vague results\n",
    "    def predict(self,month,year):\n",
    "        pred_df = generate_stay_dt(month,year)\n",
    "        pred_df = format_prediction_dates(pred_df.loc[:,:].copy())\n",
    "        pred_x = pred_df.iloc[:,1:16].values\n",
    "        pred_x = self.onehot.transform(pred_x).toarray()\n",
    "        pred_x_poly = self.poly.transform(pred_x)\n",
    "        pred_y = self.lin.predict(pred_x_poly)\n",
    "        pred_df['prediction'] = pred_y\n",
    "        \n",
    "        # Factors in the yearly change in booking numbers\n",
    "        pred_df = self.manage_increment(pred_df,month,year)\n",
    "        \n",
    "        return pred_df\n",
    "    \n",
    "     # To fator in change in booking numbers every year \n",
    "    def manage_increment(self,df,month,year):\n",
    "        increment = yearly_change_factor(self.booking_data.iloc[:,:].copy(),month,year-1)\n",
    "        weekday_increment = 3 * increment / 28 \n",
    "        weekend_increment = 4 * increment / 28\n",
    "        for i in df.index:\n",
    "            prediction = df.get_value(i,'prediction')\n",
    "            weekend = df.get_value(i,'weekend')\n",
    "            if(prediction < 0):\n",
    "                prediction = prediction *(-1)\n",
    "                df.set_value(i,'prediction',prediction)\n",
    "            if(weekend ==1):\n",
    "                df.set_value(i,'prediction',prediction + weekend_increment)\n",
    "            else:\n",
    "                df.set_value(i,'prediction',prediction + weekday_increment)\n",
    "        \n",
    "        # To smoothen the transition from one day to another\n",
    "        df = self.normalize(df)\n",
    "        return df\n",
    "    \n",
    "    def normalize(self,df):\n",
    "        df['avg_prediction'] = 0\n",
    "        idx= df.index\n",
    "        first = (df.get_value(idx[0],'prediction')+df.get_value(idx[1],'prediction'))/2\n",
    "        df.set_value(idx[0],'avg_prediction',first)\n",
    "        pre= 0 \n",
    "        cur = df.get_value(idx[0],'prediction')\n",
    "        nxt = df.get_value(idx[1],'prediction')\n",
    "        avg = 0\n",
    "        for i in range(1,idx.size-1):\n",
    "            pre=cur\n",
    "            cur=nxt\n",
    "            nxt=df.get_value(idx[i+1],'prediction')\n",
    "            avg = (pre+cur+nxt)/3\n",
    "            df.set_value(idx[i],'avg_prediction',avg)\n",
    "        \n",
    "        last = (df.get_value(idx[idx.size-1],'prediction')+df.get_value(idx[idx.size-2],'prediction'))/2\n",
    "        df.set_value(idx[idx.size-1],'avg_prediction',last)\n",
    "        return df"
   ]
  },
  {
   "cell_type": "code",
   "execution_count": 8,
   "metadata": {
    "collapsed": true
   },
   "outputs": [],
   "source": [
    "# hotel_name = Booking_prediction('hotel_id)\n",
    "#### To generate booking predictions\n",
    "# hotel_name_jan19_forecast = hotel_name.predict('01','2019')\n",
    "# hotel_name_dec19_forecast = hotel_name.predict('02','2019')"
   ]
  },
  {
   "cell_type": "code",
   "execution_count": 13,
   "metadata": {
    "collapsed": true
   },
   "outputs": [],
   "source": [
    "hotel_casino = Booking_prediction('57b66e62916bb9001839f1d5')"
   ]
  },
  {
   "cell_type": "code",
   "execution_count": 57,
   "metadata": {
    "collapsed": true
   },
   "outputs": [],
   "source": [
    "hotel_casino_dec19_forecast = hotel_casino.predict(12,2018)"
   ]
  },
  {
   "cell_type": "code",
   "execution_count": null,
   "metadata": {},
   "outputs": [],
   "source": [
    "hotel_casino_dec19_forecast = hotel_casino_dec19_forecast[['stay_dt','avg_prediction']]"
   ]
  },
  {
   "cell_type": "code",
   "execution_count": null,
   "metadata": {
    "collapsed": true
   },
   "outputs": [],
   "source": [
    "hotel_casino_dec19_forecast.to_csv(index = False)"
   ]
  },
  {
   "cell_type": "code",
   "execution_count": null,
   "metadata": {
    "collapsed": true
   },
   "outputs": [],
   "source": []
  },
  {
   "cell_type": "code",
   "execution_count": null,
   "metadata": {
    "collapsed": true
   },
   "outputs": [],
   "source": []
  }
 ],
 "metadata": {
  "kernelspec": {
   "display_name": "Python 3",
   "language": "python",
   "name": "python3"
  },
  "language_info": {
   "codemirror_mode": {
    "name": "ipython",
    "version": 3
   },
   "file_extension": ".py",
   "mimetype": "text/x-python",
   "name": "python",
   "nbconvert_exporter": "python",
   "pygments_lexer": "ipython3",
   "version": "3.6.6"
  }
 },
 "nbformat": 4,
 "nbformat_minor": 2
}
